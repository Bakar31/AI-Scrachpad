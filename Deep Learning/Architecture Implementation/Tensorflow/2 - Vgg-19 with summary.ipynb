{
 "cells": [
  {
   "cell_type": "code",
   "execution_count": 1,
   "metadata": {},
   "outputs": [],
   "source": [
    "import tensorflow as tf"
   ]
  },
  {
   "cell_type": "code",
   "execution_count": 2,
   "metadata": {},
   "outputs": [],
   "source": [
    "input_height = 224\n",
    "input_width = 224"
   ]
  },
  {
   "cell_type": "code",
   "execution_count": 3,
   "metadata": {},
   "outputs": [],
   "source": [
    "vgg_model = tf.keras.models.Sequential([\n",
    "    tf.keras.Input((input_height, input_width, 3)),\n",
    "    tf.keras.layers.Conv2D(64, (3, 3), 1, padding = 'same', activation='relu'),\n",
    "    tf.keras.layers.Conv2D(64, (3, 3), 1, padding = 'same', activation='relu'),\n",
    "    tf.keras.layers.MaxPool2D((2, 2), 2),\n",
    "\n",
    "    tf.keras.layers.Conv2D(128, (3, 3), 1, padding = 'same', activation='relu'),\n",
    "    tf.keras.layers.Conv2D(128, (3, 3), 1, padding = 'same', activation='relu'),\n",
    "    tf.keras.layers.MaxPool2D((2, 2), 2),\n",
    "\n",
    "    tf.keras.layers.Conv2D(256, (3, 3), 1, padding = 'same', activation='relu'),\n",
    "    tf.keras.layers.Conv2D(256, (3, 3), 1, padding = 'same', activation='relu'),\n",
    "    tf.keras.layers.Conv2D(256, (3, 3), 1, padding = 'same', activation='relu'),\n",
    "    tf.keras.layers.Conv2D(256, (3, 3), 1, padding = 'same', activation='relu'),\n",
    "    tf.keras.layers.MaxPool2D((2, 2), 2),\n",
    "\n",
    "    tf.keras.layers.Conv2D(512, (3, 3), 1, padding = 'same', activation='relu'),\n",
    "    tf.keras.layers.Conv2D(512, (3, 3), 1, padding = 'same', activation='relu'),\n",
    "    tf.keras.layers.Conv2D(512, (3, 3), 1, padding = 'same', activation='relu'),\n",
    "    tf.keras.layers.Conv2D(512, (3, 3), 1, padding = 'same', activation='relu'),\n",
    "    tf.keras.layers.MaxPool2D((2, 2), 2),\n",
    "\n",
    "    tf.keras.layers.Conv2D(512, (3, 3), 1, padding = 'same', activation='relu'),\n",
    "    tf.keras.layers.Conv2D(512, (3, 3), 1, padding = 'same', activation='relu'),\n",
    "    tf.keras.layers.Conv2D(512, (3, 3), 1, padding = 'same', activation='relu'),\n",
    "    tf.keras.layers.Conv2D(512, (3, 3), 1, padding = 'same', activation='relu'),\n",
    "    tf.keras.layers.MaxPool2D((2, 2), 2),\n",
    "\n",
    "    tf.keras.layers.Flatten(),\n",
    "    tf.keras.layers.Dense(4096, activation = 'relu'),\n",
    "    tf.keras.layers.Dense(4096, activation = 'relu'),\n",
    "    tf.keras.layers.Dense(1000, activation = 'softmax')\n",
    "])"
   ]
  },
  {
   "cell_type": "code",
   "execution_count": 4,
   "metadata": {},
   "outputs": [
    {
     "name": "stdout",
     "output_type": "stream",
     "text": [
      "Model: \"sequential\"\n",
      "_________________________________________________________________\n",
      " Layer (type)                Output Shape              Param #   \n",
      "=================================================================\n",
      " conv2d (Conv2D)             (None, 224, 224, 64)      1792      \n",
      "                                                                 \n",
      " conv2d_1 (Conv2D)           (None, 224, 224, 64)      36928     \n",
      "                                                                 \n",
      " max_pooling2d (MaxPooling2D  (None, 112, 112, 64)     0         \n",
      " )                                                               \n",
      "                                                                 \n",
      " conv2d_2 (Conv2D)           (None, 112, 112, 128)     73856     \n",
      "                                                                 \n",
      " conv2d_3 (Conv2D)           (None, 112, 112, 128)     147584    \n",
      "                                                                 \n",
      " max_pooling2d_1 (MaxPooling  (None, 56, 56, 128)      0         \n",
      " 2D)                                                             \n",
      "                                                                 \n",
      " conv2d_4 (Conv2D)           (None, 56, 56, 256)       295168    \n",
      "                                                                 \n",
      " conv2d_5 (Conv2D)           (None, 56, 56, 256)       590080    \n",
      "                                                                 \n",
      " conv2d_6 (Conv2D)           (None, 56, 56, 256)       590080    \n",
      "                                                                 \n",
      " conv2d_7 (Conv2D)           (None, 56, 56, 256)       590080    \n",
      "                                                                 \n",
      " max_pooling2d_2 (MaxPooling  (None, 28, 28, 256)      0         \n",
      " 2D)                                                             \n",
      "                                                                 \n",
      " conv2d_8 (Conv2D)           (None, 28, 28, 512)       1180160   \n",
      "                                                                 \n",
      " conv2d_9 (Conv2D)           (None, 28, 28, 512)       2359808   \n",
      "                                                                 \n",
      " conv2d_10 (Conv2D)          (None, 28, 28, 512)       2359808   \n",
      "                                                                 \n",
      " conv2d_11 (Conv2D)          (None, 28, 28, 512)       2359808   \n",
      "                                                                 \n",
      " max_pooling2d_3 (MaxPooling  (None, 14, 14, 512)      0         \n",
      " 2D)                                                             \n",
      "                                                                 \n",
      " conv2d_12 (Conv2D)          (None, 14, 14, 512)       2359808   \n",
      "                                                                 \n",
      " conv2d_13 (Conv2D)          (None, 14, 14, 512)       2359808   \n",
      "                                                                 \n",
      " conv2d_14 (Conv2D)          (None, 14, 14, 512)       2359808   \n",
      "                                                                 \n",
      " conv2d_15 (Conv2D)          (None, 14, 14, 512)       2359808   \n",
      "                                                                 \n",
      " max_pooling2d_4 (MaxPooling  (None, 7, 7, 512)        0         \n",
      " 2D)                                                             \n",
      "                                                                 \n",
      " flatten (Flatten)           (None, 25088)             0         \n",
      "                                                                 \n",
      " dense (Dense)               (None, 4096)              102764544 \n",
      "                                                                 \n",
      " dense_1 (Dense)             (None, 4096)              16781312  \n",
      "                                                                 \n",
      " dense_2 (Dense)             (None, 1000)              4097000   \n",
      "                                                                 \n",
      "=================================================================\n",
      "Total params: 143,667,240\n",
      "Trainable params: 143,667,240\n",
      "Non-trainable params: 0\n",
      "_________________________________________________________________\n"
     ]
    }
   ],
   "source": [
    "vgg_model.compile(loss='categorical_crossentropy', optimizer='adam', metrics=['accuracy'])\n",
    "vgg_model.summary()"
   ]
  },
  {
   "cell_type": "code",
   "execution_count": null,
   "metadata": {},
   "outputs": [],
   "source": []
  }
 ],
 "metadata": {
  "kernelspec": {
   "display_name": "Python 3",
   "language": "python",
   "name": "python3"
  },
  "language_info": {
   "codemirror_mode": {
    "name": "ipython",
    "version": 3
   },
   "file_extension": ".py",
   "mimetype": "text/x-python",
   "name": "python",
   "nbconvert_exporter": "python",
   "pygments_lexer": "ipython3",
   "version": "3.10.4"
  },
  "orig_nbformat": 4
 },
 "nbformat": 4,
 "nbformat_minor": 2
}
