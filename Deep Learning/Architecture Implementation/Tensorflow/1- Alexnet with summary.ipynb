{
 "cells": [
  {
   "attachments": {},
   "cell_type": "markdown",
   "metadata": {},
   "source": [
    "## Title: ImageNet Classification with Deep Convolutional Neural Networks\n",
    "\n",
    "### Summary:\n",
    "- This research introduces a large, deep convolutional neural network (CNN) that outperformed state-of-the-art methods on both the ImageNet LSVRC-2010 and LSVRC-2012 image categorization competitions.\n",
    "- The CNN comprises five convolutional layers, some of which are followed by max-pooling layers, three fully connected layers, and a final 1000-way softmax, and contains 650,000 neurons and 60 million parameters.\n",
    "- The study presents a number of methods for accelerating CNN training and increasing its accuracy, including the use of non-saturating neurons, a highly efficient GPU implementation of the convolution function, and a regularization method called \"dropout\" for minimizing overfitting.\n",
    "- This research also examines the CNN's learned features and demonstrates how they capture complicated patterns in natural images while being invariant to modifications.\n",
    "- Both the top-1 and top-5 error rates on the ImageNet test data show that the CNN significantly outperforms earlier approaches in this research.\n",
    "\n",
    "Read more: https://proceedings.neurips.cc/paper_files/paper/2012/file/c399862d3b9d6b76c8436e924a68c45b-Paper.pdf"
   ]
  },
  {
   "attachments": {},
   "cell_type": "markdown",
   "metadata": {},
   "source": [
    "# Implementation"
   ]
  },
  {
   "cell_type": "code",
   "execution_count": 1,
   "metadata": {},
   "outputs": [],
   "source": [
    "import tensorflow as tf"
   ]
  },
  {
   "cell_type": "code",
   "execution_count": 2,
   "metadata": {},
   "outputs": [],
   "source": [
    "input_height = 224\n",
    "input_width = 224"
   ]
  },
  {
   "cell_type": "code",
   "execution_count": 3,
   "metadata": {},
   "outputs": [],
   "source": [
    "# model implementation\n",
    "model = tf.keras.models.Sequential(\n",
    "    [\n",
    "        tf.keras.Input((input_height, input_width, 3)),\n",
    "        tf.keras.layers.Conv2D(96, (11, 11), 4, padding = 'same', activation= 'relu'),\n",
    "        tf.keras.layers.MaxPool2D((3, 3), strides = (2, 2)),\n",
    "        tf.keras.layers.Conv2D(256, (5, 5), padding = 'same', activation = 'relu'),\n",
    "        tf.keras.layers.MaxPool2D((3, 3), strides = (2, 2)),\n",
    "        tf.keras.layers.Conv2D(384, (3, 3), padding= 'same' , activation = 'relu'),\n",
    "        tf.keras.layers.Conv2D(384, (3, 3), padding= 'same', activation = 'relu'),\n",
    "        tf.keras.layers.Conv2D(256, (3, 3), padding= 'same', activation = 'relu'),\n",
    "        tf.keras.layers.MaxPool2D((3, 3), (2, 2)),\n",
    "        tf.keras.layers.Flatten(),\n",
    "        tf.keras.layers.Dropout(0.5),\n",
    "        tf.keras.layers.Dense(4096,activation= 'relu'),\n",
    "        tf.keras.layers.Dropout(0.5),\n",
    "        tf.keras.layers.Dense(4096,activation= 'relu'),\n",
    "        tf.keras.layers.Dense(1000, activation= 'softmax')\n",
    "        \n",
    "    ]\n",
    ")"
   ]
  },
  {
   "cell_type": "code",
   "execution_count": 4,
   "metadata": {},
   "outputs": [
    {
     "name": "stdout",
     "output_type": "stream",
     "text": [
      "Model: \"sequential\"\n",
      "_________________________________________________________________\n",
      " Layer (type)                Output Shape              Param #   \n",
      "=================================================================\n",
      " conv2d (Conv2D)             (None, 56, 56, 96)        34944     \n",
      "                                                                 \n",
      " max_pooling2d (MaxPooling2D  (None, 27, 27, 96)       0         \n",
      " )                                                               \n",
      "                                                                 \n",
      " conv2d_1 (Conv2D)           (None, 27, 27, 256)       614656    \n",
      "                                                                 \n",
      " max_pooling2d_1 (MaxPooling  (None, 13, 13, 256)      0         \n",
      " 2D)                                                             \n",
      "                                                                 \n",
      " conv2d_2 (Conv2D)           (None, 13, 13, 384)       885120    \n",
      "                                                                 \n",
      " conv2d_3 (Conv2D)           (None, 13, 13, 384)       1327488   \n",
      "                                                                 \n",
      " conv2d_4 (Conv2D)           (None, 13, 13, 256)       884992    \n",
      "                                                                 \n",
      " max_pooling2d_2 (MaxPooling  (None, 6, 6, 256)        0         \n",
      " 2D)                                                             \n",
      "                                                                 \n",
      " flatten (Flatten)           (None, 9216)              0         \n",
      "                                                                 \n",
      " dropout (Dropout)           (None, 9216)              0         \n",
      "                                                                 \n",
      " dense (Dense)               (None, 4096)              37752832  \n",
      "                                                                 \n",
      " dropout_1 (Dropout)         (None, 4096)              0         \n",
      "                                                                 \n",
      " dense_1 (Dense)             (None, 4096)              16781312  \n",
      "                                                                 \n",
      " dense_2 (Dense)             (None, 1000)              4097000   \n",
      "                                                                 \n",
      "=================================================================\n",
      "Total params: 62,378,344\n",
      "Trainable params: 62,378,344\n",
      "Non-trainable params: 0\n",
      "_________________________________________________________________\n"
     ]
    }
   ],
   "source": [
    "model.compile(loss='categorical_crossentropy', optimizer='adam', metrics=['accuracy'])\n",
    "model.summary()"
   ]
  }
 ],
 "metadata": {
  "kernelspec": {
   "display_name": "Python 3",
   "language": "python",
   "name": "python3"
  },
  "language_info": {
   "codemirror_mode": {
    "name": "ipython",
    "version": 3
   },
   "file_extension": ".py",
   "mimetype": "text/x-python",
   "name": "python",
   "nbconvert_exporter": "python",
   "pygments_lexer": "ipython3",
   "version": "3.10.4"
  },
  "orig_nbformat": 4
 },
 "nbformat": 4,
 "nbformat_minor": 2
}
